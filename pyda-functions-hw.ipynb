{
 "cells": [
  {
   "cell_type": "markdown",
   "metadata": {},
   "source": [
    "## Задание 1"
   ]
  },
  {
   "cell_type": "markdown",
   "metadata": {},
   "source": [
    "Дан список вида:"
   ]
  },
  {
   "cell_type": "code",
   "execution_count": 3,
   "metadata": {},
   "outputs": [
    {
     "name": "stdout",
     "output_type": "stream",
     "text": [
      "103\n"
     ]
    }
   ],
   "source": [
    "data = [\n",
    "    [13, 25, 23, 34],\n",
    "    [45, 32, 44, 47],\n",
    "    [12, 33, 23, 95],\n",
    "    [13, 53, 34, 35]\n",
    "]\n",
    "\n",
    "def sum_d(data):\n",
    "    s = 0\n",
    "    for i in range(len(data)):\n",
    "        s += data[i][i]\n",
    "    return s\n",
    "\n",
    "\n",
    "print(sum_d(data))"
   ]
  },
  {
   "cell_type": "markdown",
   "metadata": {},
   "source": [
    "Напишите функцию, которая возвращает сумму элементов на диагонали. Т. е. 13+32+23+35.  \n",
    "Список может быть любой длины, но всегда является \"квадратным\" (количество элементов во вложенных списках равно их количеству)."
   ]
  },
  {
   "cell_type": "markdown",
   "metadata": {},
   "source": [
    "## Задание 2"
   ]
  },
  {
   "cell_type": "markdown",
   "metadata": {},
   "source": [
    "Напишите функцию, возвращающую сумму первых n чисел Фибоначчи (для этого вам может понадобится ознакомиться с рекурсией)."
   ]
  },
  {
   "cell_type": "code",
   "execution_count": 7,
   "metadata": {},
   "outputs": [
    {
     "name": "stdout",
     "output_type": "stream",
     "text": [
      "4\n",
      "7\n"
     ]
    }
   ],
   "source": [
    "def fibonacci(n):\n",
    "    if n < 3:\n",
    "        return 1\n",
    "    else:\n",
    "        return fibonacci(n - 1) + fibonacci(n - 2)\n",
    "    \n",
    "def sum_f(n):\n",
    "    s = 0\n",
    "    for i in range(1, n + 1):\n",
    "        s += fibonacci(i)\n",
    "    return s\n",
    "\n",
    "\n",
    "print(sum_f(int(input())))"
   ]
  },
  {
   "cell_type": "markdown",
   "metadata": {},
   "source": [
    "## Задание 3\n"
   ]
  },
  {
   "cell_type": "markdown",
   "metadata": {},
   "source": [
    "Напишите функцию, преобразующую произвольный список вида ['2018-01-01', 'yandex', 'cpc', 100] (он может быть любой длины) в словарь {'2018-01-01': {'yandex': {'cpc': 100}}}"
   ]
  },
  {
   "cell_type": "code",
   "execution_count": 9,
   "metadata": {},
   "outputs": [
    {
     "name": "stdout",
     "output_type": "stream",
     "text": [
      "{'2018-01-01': {'yandex': {'cpc': 100}}}\n"
     ]
    }
   ],
   "source": [
    "my_list = ['2018-01-01', 'yandex', 'cpc', 100]\n",
    "\n",
    "def slov(ll):\n",
    "    slovar = {}\n",
    "    slovar[ll[-2]] = ll[-1]\n",
    "    for x in range(3,len(ll) + 1):\n",
    "        tmp = slovar\n",
    "        slovar = {}\n",
    "        slovar[ll[-x]] = tmp\n",
    "    return slovar\n",
    "\n",
    "        \n",
    "print(slov(my_list))\n"
   ]
  },
  {
   "cell_type": "markdown",
   "metadata": {},
   "source": [
    "## Задание 4"
   ]
  },
  {
   "cell_type": "markdown",
   "metadata": {},
   "source": [
    "Вы работаете секретарем и вам постоянно приходят различные документы. Вы должны быть очень внимательны, чтобы не потерять ни один документ. Каталог документов хранится в следующем виде:"
   ]
  },
  {
   "cell_type": "code",
   "execution_count": 4,
   "metadata": {},
   "outputs": [],
   "source": [
    "documents = [\n",
    "    {'type': 'passport', 'number': '2207 876234', 'name': 'Василий Гупкин'},\n",
    "    {'type': 'invoice', 'number': '11-2', 'name': 'Геннадий Покемонов'},\n",
    "    {'type': 'insurance', 'number': '10006', 'name': 'Аристарх Павлов'}\n",
    "]"
   ]
  },
  {
   "cell_type": "markdown",
   "metadata": {},
   "source": [
    "Перечень полок, на которых находятся документы хранится в следующем виде:"
   ]
  },
  {
   "cell_type": "code",
   "execution_count": 5,
   "metadata": {},
   "outputs": [],
   "source": [
    "directories = {\n",
    "    '1': ['2207 876234', '11-2', '5455 028765'],\n",
    "    '2': ['10006', '5400 028765', '5455 002299'],\n",
    "    '3': []\n",
    "}"
   ]
  },
  {
   "cell_type": "code",
   "execution_count": null,
   "metadata": {},
   "outputs": [
    {
     "name": "stdout",
     "output_type": "stream",
     "text": [
      "Введите команду\n",
      "m\n",
      "Введите номер документа\n",
      "11-2\n",
      "Введите номер полки\n",
      "3\n",
      "Введите команду\n",
      "s\n",
      "Введите номер документа\n",
      "11-2\n",
      "3\n",
      "Введите команду\n",
      "a\n",
      "Введите тип документа\n",
      "aaa\n",
      "Введите номер документа\n",
      "567\n",
      "Введите фамилию\n",
      "dfhijj\n",
      "Введите номер полки\n",
      "3\n",
      "Введите команду\n",
      "p\n",
      "Введите номер документа\n",
      "567\n",
      "dfhijj\n",
      "Введите команду\n",
      "s\n",
      "Введите номер документа\n",
      "567\n",
      "3\n",
      "Введите команду\n"
     ]
    }
   ],
   "source": [
    "documents = [\n",
    "    {'type': 'passport', 'number': '2207 876234', 'name': 'Василий Гупкин'},\n",
    "    {'type': 'invoice', 'number': '11-2', 'name': 'Геннадий Покемонов'},\n",
    "    {'type': 'insurance', 'number': '10006', 'name': 'Аристарх Павлов'}\n",
    "]\n",
    "directories = {\n",
    "    '1': ['2207 876234', '11-2', '5455 028765'],\n",
    "    '2': ['10006', '5400 028765', '5455 002299'],\n",
    "    '3': []\n",
    "}\n",
    "\n",
    "\n",
    "def command_p():\n",
    "    print('Введите номер документа')\n",
    "    n = input()\n",
    "    for i in range(len(documents)):\n",
    "        if documents[i]['number'] == n:\n",
    "            print(documents[i]['name'])\n",
    "            return\n",
    "    print('Документ не найден')\n",
    "\n",
    "def command_s():\n",
    "    print('Введите номер документа')\n",
    "    n = input()\n",
    "    for i in directories.keys():\n",
    "        if n in directories[i]:\n",
    "            print(i)\n",
    "            return\n",
    "    print('Документ не найден')\n",
    "\n",
    "def command_l():\n",
    "    for i in documents:\n",
    "        print(i['type'], ' \"', i['number'], '\" \"', i['name'], '\"', sep='')\n",
    "\n",
    "def command_as():\n",
    "    print('Введите номер полки')\n",
    "    k = input()\n",
    "    directories[k] = []\n",
    "\n",
    "def command_d():\n",
    "    print('Введите номер документа')\n",
    "    n = input()\n",
    "    f = True\n",
    "    for i in range(len(documents)):\n",
    "        if documents[i]['number'] == n:\n",
    "            f = False\n",
    "            del documents[i]\n",
    "            break\n",
    "    for i in directories.values():\n",
    "        if n in i:\n",
    "            f = False\n",
    "            del i[i.index(n)]\n",
    "            return\n",
    "    if f:\n",
    "        print('Документ не найден')\n",
    "            \n",
    "def command_m():\n",
    "    print('Введите номер документа')\n",
    "    n = input()\n",
    "    print('Введите номер полки')\n",
    "    k = input()\n",
    "    if k in directories:\n",
    "        for i in directories.values():\n",
    "            if n in i:\n",
    "                del i[i.index(n)]\n",
    "                break\n",
    "        directories[k].append(n)\n",
    "    else:\n",
    "        print('Полка не существует')\n",
    "\n",
    "def command_a():\n",
    "    print('Введите тип документа')\n",
    "    t = input()\n",
    "    print('Введите номер документа')\n",
    "    n = input()\n",
    "    print('Введите фамилию')\n",
    "    f = input()\n",
    "    print('Введите номер полки')\n",
    "    k = input()\n",
    "    documents.append({'type': t, 'number': n, 'name': f})\n",
    "    if k in directories:\n",
    "        directories[k].append(n)\n",
    "    else:\n",
    "        print('Полка не существует')\n",
    "            \n",
    "while True:\n",
    "    print('Введите команду')\n",
    "    c = input()\n",
    "    if c == 'p':\n",
    "        command_p()\n",
    "    elif c == 's':\n",
    "        command_s()\n",
    "    elif c == 'l':\n",
    "        command_l()\n",
    "    elif c == 'as':\n",
    "        command_as()\n",
    "    elif c == 'd':\n",
    "        command_d()\n",
    "    elif c == 'm':\n",
    "        command_m()\n",
    "    elif c == 'a':\n",
    "        command_a()"
   ]
  },
  {
   "cell_type": "markdown",
   "metadata": {},
   "source": [
    "Необходимо реализовать пользовательские команды (внимание! это не название функций, которые должны быть выразительными, а команды, которые вводит пользователь, чтобы получить необходимый результат):\n",
    "  \n",
    "- p – people – команда, которая спросит номер документа и выведет имя человека, которому он принадлежит;  \n",
    "- s – shelf – команда, которая спросит номер документа и выведет номер полки, на которой он находится  \n",
    "Правильно обработайте ситуацию, когда пользователь будет вводить несуществующий документ.\n",
    "- l – list – команда, которая выведет список всех документов в формате   \n",
    "**passport \"2207 876234\" \"Василий Гупкин\"**  \n",
    "- as – add shelf – команда, которая спросит номер новой полки и добавит ее в перечень\n",
    "- d – delete – команда, которая спросит номер документа и удалит его из каталога и из перечня полок. Предусмотрите сценарий, когда пользователь вводит несуществующий документ;  \n",
    "- m – move – команда, которая спросит номер документа и целевую полку и переместит его с текущей полки на целевую. Корректно обработайте кейсы, когда пользователь пытается переместить несуществующий документ или переместить документ на несуществующую полку;  \n",
    "- a – add – команда, которая добавит новый документ в каталог и в перечень полок, спросив его номер, тип, имя владельца и номер полки, на котором он будет храниться."
   ]
  }
 ],
 "metadata": {
  "kernelspec": {
   "display_name": "Python 3",
   "language": "python",
   "name": "python3"
  },
  "language_info": {
   "codemirror_mode": {
    "name": "ipython",
    "version": 3
   },
   "file_extension": ".py",
   "mimetype": "text/x-python",
   "name": "python",
   "nbconvert_exporter": "python",
   "pygments_lexer": "ipython3",
   "version": "3.7.4"
  }
 },
 "nbformat": 4,
 "nbformat_minor": 2
}
