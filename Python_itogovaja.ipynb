{
 "cells": [
  {
   "cell_type": "markdown",
   "metadata": {},
   "source": [
    "1.Загрузить файл hr.csv"
   ]
  },
  {
   "cell_type": "markdown",
   "metadata": {},
   "source": [
    "2.Рассчитать основные статистики для переменных (среднее,медиана,мода,мин/макс,сред.отклонение)"
   ]
  },
  {
   "cell_type": "code",
   "execution_count": 2,
   "metadata": {},
   "outputs": [
    {
     "name": "stdout",
     "output_type": "stream",
     "text": [
      "       satisfaction_level  last_evaluation  number_project  \\\n",
      "0                    0.38             0.53               2   \n",
      "1                    0.80             0.86               5   \n",
      "2                    0.11             0.88               7   \n",
      "3                    0.72             0.87               5   \n",
      "4                    0.37             0.52               2   \n",
      "...                   ...              ...             ...   \n",
      "14994                0.40             0.57               2   \n",
      "14995                0.37             0.48               2   \n",
      "14996                0.37             0.53               2   \n",
      "14997                0.11             0.96               6   \n",
      "14998                0.37             0.52               2   \n",
      "\n",
      "       average_montly_hours  time_spend_company  Work_accident  left  \\\n",
      "0                       157                   3              0     1   \n",
      "1                       262                   6              0     1   \n",
      "2                       272                   4              0     1   \n",
      "3                       223                   5              0     1   \n",
      "4                       159                   3              0     1   \n",
      "...                     ...                 ...            ...   ...   \n",
      "14994                   151                   3              0     1   \n",
      "14995                   160                   3              0     1   \n",
      "14996                   143                   3              0     1   \n",
      "14997                   280                   4              0     1   \n",
      "14998                   158                   3              0     1   \n",
      "\n",
      "       promotion_last_5years    sales  salary  \n",
      "0                          0    sales     low  \n",
      "1                          0    sales  medium  \n",
      "2                          0    sales  medium  \n",
      "3                          0    sales     low  \n",
      "4                          0    sales     low  \n",
      "...                      ...      ...     ...  \n",
      "14994                      0  support     low  \n",
      "14995                      0  support     low  \n",
      "14996                      0  support     low  \n",
      "14997                      0  support     low  \n",
      "14998                      0  support     low  \n",
      "\n",
      "[14999 rows x 10 columns]\n",
      "Математическое ожидание стажа работы(среднее):  3.498233215547703\n",
      "Медиана:  3.0\n",
      "Мода:  0    3\n",
      "dtype: int64\n",
      "Максимальное значение:  10\n",
      "Минимальное значение:  2\n",
      "Стандартное отклонение:  1.4600875552715114\n"
     ]
    }
   ],
   "source": [
    "import pandas as pd\n",
    "import numpy as np\n",
    "import matplotlib.pyplot as plt\n",
    "import scipy.stats as sts\n",
    "%matplotlib inline\n",
    "import statistics\n",
    "import ssl\n",
    "import scipy\n",
    "data = pd.read_csv('hr.csv')\n",
    "data.head()\n",
    "time_spend = data['time_spend_company']\n",
    "\n",
    "#x = time_spend.values.tolist()\n",
    "#for i in range(len(x)):\n",
    "   # if np.isnan(x[i]):\n",
    "   #     x[i] = 0\n",
    "print(data)\n",
    "print('Математическое ожидание стажа работы(среднее): ', time_spend.mean())\n",
    "print('Медиана: ', time_spend.median())\n",
    "print('Мода: ', time_spend.mode())\n",
    "print('Максимальное значение: ', time_spend.max())\n",
    "print('Минимальное значение: ', time_spend.min())\n",
    "print('Стандартное отклонение: ', statistics.pstdev(time_spend))"
   ]
  },
  {
   "cell_type": "code",
   "execution_count": null,
   "metadata": {},
   "outputs": [],
   "source": [
    "# Вывод. Более 10 лет ни один работник не проработал в одной и той же компании. \n",
    "# Принявшиеся на работу работники увольняются не раньше, чем через 2 года работы.\n",
    "# В среднем люди работают в одной и той же компании около 3,5 лет."
   ]
  },
  {
   "cell_type": "markdown",
   "metadata": {},
   "source": [
    "3.Рассчитать и визуализировать корреляционную матрицу для переменных."
   ]
  },
  {
   "cell_type": "markdown",
   "metadata": {},
   "source": [
    "4.Визуализировать несколько взаимосвязей между переменными."
   ]
  },
  {
   "cell_type": "markdown",
   "metadata": {},
   "source": [
    "5.С использованием t-test статистики проверить взаимосвязи между несколькими переменными."
   ]
  },
  {
   "cell_type": "code",
   "execution_count": 3,
   "metadata": {},
   "outputs": [
    {
     "data": {
      "text/plain": [
       "Ttest_indResult(statistic=-491.5064991295991, pvalue=0.0)"
      ]
     },
     "execution_count": 3,
     "metadata": {},
     "output_type": "execute_result"
    },
    {
     "data": {
      "image/png": "[encoded data removed]",
      "text/plain": [
       "<Figure size 432x288 with 1 Axes>"
      ]
     },
     "metadata": {
      "needs_background": "light"
     },
     "output_type": "display_data"
    }
   ],
   "source": [
    "satisfaction_level = data['satisfaction_level']\n",
    "average_montly_hours = data['average_montly_hours']\n",
    "plt.scatter(satisfaction_level, average_montly_hours)\n",
    "from scipy.stats.stats import pearsonr\n",
    "scipy.stats.pearsonr(satisfaction_level.values.tolist(), average_montly_hours)\n",
    "scipy.stats.ttest_ind(satisfaction_level.values.tolist(), average_montly_hours)"
   ]
  },
  {
   "cell_type": "code",
   "execution_count": null,
   "metadata": {},
   "outputs": [],
   "source": [
    "# Вывод. Корреляции между двумя переменными не выявлено, т.к. pvalue = 0. Другими словами уровень удовлетворенности от \n",
    "# работы не зависит напрямую от количества отработанных рабочих часов в месяц."
   ]
  },
  {
   "cell_type": "code",
   "execution_count": 4,
   "metadata": {},
   "outputs": [
    {
     "data": {
      "text/plain": [
       "Ttest_indResult(statistic=-238.58170166684755, pvalue=0.0)"
      ]
     },
     "execution_count": 4,
     "metadata": {},
     "output_type": "execute_result"
    },
    {
     "data": {
      "image/png": "[encoded data removed]",
      "text/plain": [
       "<Figure size 432x288 with 1 Axes>"
      ]
     },
     "metadata": {
      "needs_background": "light"
     },
     "output_type": "display_data"
    }
   ],
   "source": [
    "satisfaction_level = data['satisfaction_level']\n",
    "time_spend_company = data['time_spend_company']\n",
    "plt.scatter(satisfaction_level, time_spend_company)\n",
    "\n",
    "from scipy.stats.stats import pearsonr\n",
    "scipy.stats.pearsonr(satisfaction_level.values.tolist(), time_spend_company)\n",
    "scipy.stats.ttest_ind(satisfaction_level.values.tolist(), time_spend_company)"
   ]
  },
  {
   "cell_type": "code",
   "execution_count": null,
   "metadata": {},
   "outputs": [],
   "source": [
    "# Вывод. Корреляции между двумя переменными не выявлено, т.к. pvalue = 0. Другими словами уровень удовлетворенности от \n",
    "# работы не зависит напрямую от числа лет отработанных работником в одной компании."
   ]
  },
  {
   "cell_type": "code",
   "execution_count": 5,
   "metadata": {},
   "outputs": [
    {
     "data": {
      "text/plain": [
       "Ttest_indResult(statistic=484.23011415607965, pvalue=0.0)"
      ]
     },
     "execution_count": 5,
     "metadata": {},
     "output_type": "execute_result"
    },
    {
     "data": {
      "image/png": "[encoded data removed]",
      "text/plain": [
       "<Figure size 432x288 with 1 Axes>"
      ]
     },
     "metadata": {
      "needs_background": "light"
     },
     "output_type": "display_data"
    }
   ],
   "source": [
    "average_montly_hours = data['average_montly_hours']\n",
    "time_spend_company = data['time_spend_company']\n",
    "plt.scatter(average_montly_hours, time_spend_company)\n",
    "\n",
    "from scipy.stats.stats import pearsonr\n",
    "scipy.stats.pearsonr(average_montly_hours.values.tolist(), time_spend_company)\n",
    "scipy.stats.ttest_ind(average_montly_hours.values.tolist(), time_spend_company)"
   ]
  },
  {
   "cell_type": "code",
   "execution_count": null,
   "metadata": {},
   "outputs": [],
   "source": [
    "# Вывод. Корреляции между двумя переменными не выявлено, т.к. pvalue = 0. Другими словами кол-во отработанных часов в месяц\n",
    "# одним работником не зависит от числа лет проработанных в компании."
   ]
  },
  {
   "cell_type": "markdown",
   "metadata": {},
   "source": [
    "6.Рассчитать сколько работников работает в каждом департаменте."
   ]
  },
  {
   "cell_type": "code",
   "execution_count": 6,
   "metadata": {},
   "outputs": [
    {
     "name": "stdout",
     "output_type": "stream",
     "text": [
      "         sales  count\n",
      "7        sales   4140\n",
      "9    technical   2720\n",
      "8      support   2229\n",
      "0           IT   1227\n",
      "6  product_mng    902\n",
      "5    marketing    858\n",
      "1        RandD    787\n",
      "2   accounting    767\n",
      "3           hr    739\n",
      "4   management    630\n"
     ]
    }
   ],
   "source": [
    "data1 = data[['sales']].groupby(['sales']).size().reset_index(name='count')\n",
    "data1 = data1.sort_values('count', ascending=False)\n",
    "print(data1)"
   ]
  },
  {
   "cell_type": "code",
   "execution_count": null,
   "metadata": {},
   "outputs": [],
   "source": [
    "# Вывод. Самое большое число работников работает в сфере продаж, меньше всего людей работает в сфере управления"
   ]
  },
  {
   "cell_type": "markdown",
   "metadata": {},
   "source": [
    "7.Показать распределение сотрудников по зарплатам."
   ]
  },
  {
   "cell_type": "code",
   "execution_count": 11,
   "metadata": {},
   "outputs": [
    {
     "name": "stdout",
     "output_type": "stream",
     "text": [
      "   salary  count\n",
      "1     low   7316\n",
      "2  medium   6446\n",
      "0    high   1237\n"
     ]
    }
   ],
   "source": [
    "data1 = data[['salary']].groupby(['salary']).size().reset_index(name='count')\n",
    "data1 = data1.sort_values('count', ascending=False)\n",
    "print(data1)"
   ]
  },
  {
   "cell_type": "code",
   "execution_count": null,
   "metadata": {},
   "outputs": [],
   "source": [
    "# Вывод. У большинства работников низкая заработная плата. "
   ]
  },
  {
   "cell_type": "markdown",
   "metadata": {},
   "source": [
    "8.Показать распределение сотрудников по зарплатам совместно с департаментами."
   ]
  },
  {
   "cell_type": "code",
   "execution_count": 38,
   "metadata": {},
   "outputs": [
    {
     "name": "stdout",
     "output_type": "stream",
     "text": [
      "         sales  count  high  medium   low\n",
      "0           IT   1227    83     535   609\n",
      "1        RandD    787    51     372   364\n",
      "2   accounting    767    74     335   358\n",
      "3           hr    739    45     359   335\n",
      "4   management    630   225     225   180\n",
      "5    marketing    858    80     376   402\n",
      "6  product_mng    902    68     383   451\n",
      "7        sales   4140   269    1772  2099\n",
      "8      support   2229   141     942  1146\n",
      "9    technical   2720   201    1147  1372\n"
     ]
    }
   ],
   "source": [
    "data1 = data[['sales']].groupby(['sales']).size().reset_index(name='count')\n",
    "data2 = data.loc[data['salary'] == 'high'].groupby(['sales']).size().reset_index(name='high')\n",
    "data3 = data.loc[data['salary'] == 'medium'].groupby(['sales']).size().reset_index(name='medium')\n",
    "data4 = data.loc[data['salary'] == 'low'].groupby(['sales']).size().reset_index(name='low')\n",
    "data1 = data1.merge(data2).merge(data3).merge(data4)\n",
    "print(data1)"
   ]
  },
  {
   "cell_type": "markdown",
   "metadata": {},
   "source": [
    "9.Сколько сотрудников покинули компанию."
   ]
  },
  {
   "cell_type": "code",
   "execution_count": 48,
   "metadata": {},
   "outputs": [
    {
     "name": "stdout",
     "output_type": "stream",
     "text": [
      "3571\n"
     ]
    }
   ],
   "source": [
    "print(len(data.loc[data['left'] == 1]))"
   ]
  },
  {
   "cell_type": "code",
   "execution_count": null,
   "metadata": {},
   "outputs": [],
   "source": [
    "# Вывод. Всего 3571 чел. уволились из компаний. "
   ]
  },
  {
   "cell_type": "markdown",
   "metadata": {},
   "source": [
    "10.Проверить несколько гипотез для данных, чтобы понять почему сотрудники покидают компанию."
   ]
  },
  {
   "cell_type": "code",
   "execution_count": 83,
   "metadata": {},
   "outputs": [
    {
     "data": {
      "text/plain": [
       "(0.7838732962094205, 0.0)"
      ]
     },
     "execution_count": 83,
     "metadata": {},
     "output_type": "execute_result"
    },
    {
     "data": {
      "image/png": "[encoded data removed]",
      "text/plain": [
       "<Figure size 432x288 with 1 Axes>"
      ]
     },
     "metadata": {
      "needs_background": "light"
     },
     "output_type": "display_data"
    }
   ],
   "source": [
    "data1 = data.loc[data['left'] == 1]\n",
    "last_evaluation = data1['last_evaluation']\n",
    "time_spend_company = data1['time_spend_company']\n",
    "plt.scatter(last_evaluation, time_spend_company)\n",
    "\n",
    "from scipy.stats.stats import pearsonr\n",
    "scipy.stats.pearsonr(last_evaluation.values.tolist(), time_spend_company)\n",
    "#scipy.stats.ttest_ind(last_evaluation.values.tolist(), time_spend_company)"
   ]
  },
  {
   "cell_type": "code",
   "execution_count": null,
   "metadata": {},
   "outputs": [],
   "source": [
    "#Гипотеза о том, что увольняются те, кто получил наивысшие оценки верна. Наблюдается тенденция , что чем больше стаж работы\n",
    "# и выше оценка, тем чаще происходят увольнения. Т.е. объясняется желанием найти работу с более высокой зарплатой наработав\n",
    "#хороший стаж и навыки."
   ]
  },
  {
   "cell_type": "code",
   "execution_count": 84,
   "metadata": {},
   "outputs": [
    {
     "name": "stdout",
     "output_type": "stream",
     "text": [
      "   time_spend_company  count  high  medium  low\n",
      "0                   2     53   NaN      31   22\n",
      "1                   3   1586  46.0     554  986\n",
      "2                   4    890  16.0     333  541\n",
      "3                   5    833  20.0     325  488\n",
      "4                   6    209   NaN      74  135\n"
     ]
    },
    {
     "data": {
      "text/plain": [
       "(-0.10571753856946772, 0.8656473976939569)"
      ]
     },
     "execution_count": 84,
     "metadata": {},
     "output_type": "execute_result"
    },
    {
     "data": {
      "image/png": "[encoded data removed]",
      "text/plain": [
       "<Figure size 432x288 with 1 Axes>"
      ]
     },
     "metadata": {
      "needs_background": "light"
     },
     "output_type": "display_data"
    }
   ],
   "source": [
    "data1 = data.loc[data['left'] == 1]\n",
    "data2 = data1[['time_spend_company']].groupby(['time_spend_company']).size().reset_index(name='count')\n",
    "data3 = data1.loc[data1['salary'] == 'high'].groupby(['time_spend_company']).size().reset_index(name='high')\n",
    "data4 = data1.loc[data1['salary'] == 'medium'].groupby(['time_spend_company']).size().reset_index(name='medium')\n",
    "data5 = data1.loc[data1['salary'] == 'low'].groupby(['time_spend_company']).size().reset_index(name='low')\n",
    "data2 = data2.merge(data3, how='left').merge(data4, how='left').merge(data5, how='left')\n",
    "print(data2)\n",
    "time_spend_company = data2['time_spend_company']\n",
    "salary = data2['low']\n",
    "plt.scatter(time_spend_company, salary)\n",
    "\n",
    "from scipy.stats.stats import pearsonr\n",
    "scipy.stats.pearsonr(time_spend_company.values.tolist(), salary)\n",
    "\n",
    "salary = data2['medium']\n",
    "plt.scatter(time_spend_company, salary)\n",
    "scipy.stats.pearsonr(time_spend_company.values.tolist(), salary)"
   ]
  },
  {
   "cell_type": "code",
   "execution_count": null,
   "metadata": {},
   "outputs": [],
   "source": [
    "#Гипотеза о том, что увольняюься те, у кого низкая заработная плата верна. Видно, что самый высокий скачок увольнения\n",
    "#приходится на момент , когда человек проработал 3 года, но получает все также маленькую зарплату."
   ]
  }
 ],
 "metadata": {
  "kernelspec": {
   "display_name": "Python 3",
   "language": "python",
   "name": "python3"
  },
  "language_info": {
   "codemirror_mode": {
    "name": "ipython",
    "version": 3
   },
   "file_extension": ".py",
   "mimetype": "text/x-python",
   "name": "python",
   "nbconvert_exporter": "python",
   "pygments_lexer": "ipython3",
   "version": "3.7.4"
  }
 },
 "nbformat": 4,
 "nbformat_minor": 2
}
