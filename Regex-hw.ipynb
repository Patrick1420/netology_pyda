{
 "cells": [
  {
   "cell_type": "markdown",
   "metadata": {},
   "source": [
    "# Домашнее задание к лекции \"Регулярные выражения\"\n",
    "Для зачета необходимо выполнить 4 задания.  \n",
    "Для зачета с отличием – все."
   ]
  },
  {
   "cell_type": "markdown",
   "metadata": {},
   "source": [
    "## Задание 1"
   ]
  },
  {
   "cell_type": "markdown",
   "metadata": {},
   "source": [
    "Напишите функцию, которая принимает на вход строку и проверяет является ли она валидным транспортным номером. Если да, то функция должна возвращать отдельно номер и регион."
   ]
  },
  {
   "cell_type": "code",
   "execution_count": 7,
   "metadata": {},
   "outputs": [
    {
     "name": "stdout",
     "output_type": "stream",
     "text": [
      "Введите транспортный номернпа\n",
      "(None, None)\n"
     ]
    }
   ],
   "source": [
    "import re\n",
    "\n",
    "def number(g):\n",
    "    if re.match('[АВЕКМНОРСТУХ]{1}\\d{3}[АВЕКМНОРСТУХ]{2}\\d{2}', g) and len(g) == 8:\n",
    "        n = re.findall('[АВЕКМНОРСТУХ]{1}\\d{3}[АВЕКМНОРСТУХ]{2}', g)[0]\n",
    "        r = re.findall('\\d{2}', g)[1]\n",
    "    else:\n",
    "        n = None\n",
    "        r = None\n",
    "    return n, r\n",
    "\n",
    "    \n",
    "print(number(input('Введите транспортный номер')))\n"
   ]
  },
  {
   "cell_type": "markdown",
   "metadata": {},
   "source": [
    "## Задание 2"
   ]
  },
  {
   "cell_type": "markdown",
   "metadata": {},
   "source": [
    "Напишите функцию, которая проверяет e-mail адрес на валидность по стандарту RFC822: http://www.w3.org/Protocols/rfc822/. Для этого постарайтесь написать (в крайнем случае найти) самый полный шаблон для проверки e-mail адресов через регулярное выражение. Разберитесь и напишите примеры, какие ваш шаблон может не охватить."
   ]
  },
  {
   "cell_type": "code",
   "execution_count": 13,
   "metadata": {},
   "outputs": [
    {
     "name": "stdout",
     "output_type": "stream",
     "text": [
      "uy5gu._kjkj@kh1.jh\n",
      "True\n"
     ]
    }
   ],
   "source": [
    "import re\n",
    "\n",
    "def email(e):\n",
    "    e = e.lower()\n",
    "    if re.fullmatch('[a-z0-9]+[a-z0-9._]*@[a-z0-9]+[a-z0-9._]*.[a-z]+', e):\n",
    "        return True\n",
    "    return False\n",
    "\n",
    "\n",
    "print(email(input()))"
   ]
  },
  {
   "cell_type": "markdown",
   "metadata": {},
   "source": [
    "## Задание 3\n",
    "Напишите функцию, которая будет удалять все последовательные повторы слов из заданной строки."
   ]
  },
  {
   "cell_type": "code",
   "execution_count": 17,
   "metadata": {},
   "outputs": [
    {
     "name": "stdout",
     "output_type": "stream",
     "text": [
      "fgh fgh eee sdw sdw\n",
      "fgh eee sdw\n"
     ]
    }
   ],
   "source": [
    "import re\n",
    "\n",
    "def del_repeat(s):\n",
    "    return re.sub(r'\\b([^\\W\\d_]+)(\\s+\\1)+\\b', r'\\1', re.sub(r'\\W+', ' ', s).strip(), flags=re.I)\n",
    " \n",
    "\n",
    "print(del_repeat(input()))"
   ]
  },
  {
   "cell_type": "markdown",
   "metadata": {},
   "source": [
    "## Задание 4\n",
    "Напишите функцию, которая будет проверять номер сотового телефона на валидность, если он валиден, то переводить его в формат:   \n",
    "+7(xxx)-xxx-xx-xx  \n",
    "Постарайтесь предусмотреть как можно больше адекватных форматов изначального ввода номера.\n",
    "Примеры правильных и неправильных форматов:\n",
    "- +7 955 555-55-55;\n",
    "- 955555555;\n",
    "- 8(955)555-55-55;\n",
    "- +7 955 555 55 55;\n",
    "- 7(955) 555-55-55;\n",
    "- +7 955+555+55+55."
   ]
  },
  {
   "cell_type": "code",
   "execution_count": 34,
   "metadata": {},
   "outputs": [
    {
     "name": "stdout",
     "output_type": "stream",
     "text": [
      "+7 955+555+55+55\n",
      "+7(955)-555-55-55\n"
     ]
    }
   ],
   "source": [
    "import re\n",
    "\n",
    "def phone(p):\n",
    "    if re.fullmatch('[+]{1}7\\s{1}\\d{3}\\s{1}\\d{3}[-]{1}\\d{2}[-]{1}\\d{2}', p):\n",
    "        return p.replace('+7 ', '+7(').replace(' ', ')-')\n",
    "    elif re.fullmatch('\\d{10}', p):\n",
    "        return '+7(' + p[:3] + ')-' + p[3:6] + '-' + p[6:8] + '-' + p[8:]\n",
    "    elif re.fullmatch('8[(]{1}\\d{3}[)]{1}\\d{3}[-]{1}\\d{2}[-]{1}\\d{2}', p):\n",
    "        return '+7' + p[1:6] + '-' + p[6:]\n",
    "    elif re.fullmatch('[+]{1}7\\s{1}\\d{3}\\s{1}\\d{3}\\s{1}\\d{2}\\s{1}\\d{2}', p):\n",
    "        return p.replace(' ', '(', 1).replace(' ', ')-', 1).replace(' ', '-')\n",
    "    elif re.fullmatch('7[(]{1}\\d{3}[)]{1}\\s{1}\\d{3}[-]{1}\\d{2}[-]{1}\\d{2}', p):\n",
    "        return '+' + p[:6] + '-' + p[7:]\n",
    "    elif re.fullmatch('[+]{1}7\\s{1}\\d{3}[+]{1}\\d{3}[+]{1}\\d{2}[+]{1}\\d{2}', p):\n",
    "        return '+' + p[1:].replace(' ', '(').replace('+', ')-', 1).replace('+', '-')\n",
    "    \n",
    "    \n",
    "print(phone(input()))"
   ]
  },
  {
   "cell_type": "code",
   "execution_count": null,
   "metadata": {},
   "outputs": [],
   "source": []
  },
  {
   "cell_type": "code",
   "execution_count": null,
   "metadata": {},
   "outputs": [],
   "source": []
  }
 ],
 "metadata": {
  "kernelspec": {
   "display_name": "Python 3",
   "language": "python",
   "name": "python3"
  },
  "language_info": {
   "codemirror_mode": {
    "name": "ipython",
    "version": 3
   },
   "file_extension": ".py",
   "mimetype": "text/x-python",
   "name": "python",
   "nbconvert_exporter": "python",
   "pygments_lexer": "ipython3",
   "version": "3.7.4"
  }
 },
 "nbformat": 4,
 "nbformat_minor": 2
}
