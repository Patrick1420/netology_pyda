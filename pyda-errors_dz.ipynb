{
 "cells": [
  {
   "cell_type": "code",
   "execution_count": 8,
   "metadata": {},
   "outputs": [
    {
     "name": "stdout",
     "output_type": "stream",
     "text": [
      "Введите начальную дату2019-12-25\n",
      "Введите конечную дату2020-02-15\n",
      "['2019-12-25', '2019-12-26', '2019-12-27', '2019-12-28', '2019-12-29', '2019-12-30', '2019-12-31', '2020-01-01', '2020-01-02', '2020-01-03', '2020-01-04', '2020-01-05', '2020-01-06', '2020-01-07', '2020-01-08', '2020-01-09', '2020-01-10', '2020-01-11', '2020-01-12', '2020-01-13', '2020-01-14', '2020-01-15', '2020-01-16', '2020-01-17', '2020-01-18', '2020-01-19', '2020-01-20', '2020-01-21', '2020-01-22', '2020-01-23', '2020-01-24', '2020-01-25', '2020-01-26', '2020-01-27', '2020-01-28', '2020-01-29', '2020-01-30', '2020-01-31', '2020-02-01', '2020-02-02', '2020-02-03', '2020-02-04', '2020-02-05', '2020-02-06', '2020-02-07', '2020-02-08', '2020-02-09', '2020-02-10', '2020-02-11', '2020-02-12', '2020-02-13', '2020-02-14', '2020-02-15']\n"
     ]
    }
   ],
   "source": [
    "# задание 1\n",
    "def dates(sd, fd):\n",
    "    days = [31, 28, 31, 30, 31, 30, 31, 31, 30, 31, 30, 31]\n",
    "    ss = sd.split('-')\n",
    "    fs = fd.split('-')\n",
    "    dates_list = []\n",
    "    for i in range(int(ss[0]), int(fs[0]) + 1):\n",
    "        if i == int(ss[0]):\n",
    "            start_month = int(ss[1])\n",
    "        else:\n",
    "            start_month = 1\n",
    "        if i == int(fs[0]):\n",
    "            end_month = int(fs[1])\n",
    "        else:\n",
    "            end_month = 12\n",
    "        for j in range(start_month, end_month + 1):\n",
    "            if i == int(ss[0]) and j == start_month:\n",
    "                start_day = int(ss[2])\n",
    "            else:\n",
    "                start_day = 1\n",
    "            if i == int(fs[0]) and j == end_month:\n",
    "                end_day = int(fs[2])\n",
    "            else:\n",
    "                end_day = days[j - 1]\n",
    "                if end_day == 28 and i % 4 == 0 and (i % 100 != 0 or i % 400 == 0):\n",
    "                    end_day += 1\n",
    "            for k in range(start_day, end_day + 1):\n",
    "                dates_list.append('0' * (4 - len(str(i))) + str(i) + '-' +\n",
    "                                  '0' * (2 - len(str(j))) + str(j) + '-' +\n",
    "                                  '0' * (2 - len(str(k))) + str(k))\n",
    "    return dates_list\n",
    "\n",
    "            \n",
    "sd = input('Введите начальную дату')\n",
    "fd = input('Введите конечную дату')\n",
    "print(dates(sd, fd))"
   ]
  },
  {
   "cell_type": "code",
   "execution_count": 12,
   "metadata": {},
   "outputs": [
    {
     "name": "stdout",
     "output_type": "stream",
     "text": [
      "Введите начальную дату0040-01-01\n",
      "Введите конечную дату0040-02-05\n",
      "['0040-01-01', '0040-01-02', '0040-01-03', '0040-01-04', '0040-01-05', '0040-01-06', '0040-01-07', '0040-01-08', '0040-01-09', '0040-01-10', '0040-01-11', '0040-01-12', '0040-01-13', '0040-01-14', '0040-01-15', '0040-01-16', '0040-01-17', '0040-01-18', '0040-01-19', '0040-01-20', '0040-01-21', '0040-01-22', '0040-01-23', '0040-01-24', '0040-01-25', '0040-01-26', '0040-01-27', '0040-01-28', '0040-01-29', '0040-01-30', '0040-01-31', '0040-02-01', '0040-02-02', '0040-02-03', '0040-02-04', '0040-02-05']\n"
     ]
    }
   ],
   "source": [
    "# задание 2\n",
    "\n",
    "import re\n",
    "\n",
    "def dates(sd, fd):\n",
    "    if (fd < sd or not re.fullmatch('\\d{4}[-]{1}\\d{2}[-]{1}\\d{2}', sd) or\n",
    "        not re.fullmatch('\\d{4}[-]{1}\\d{2}[-]{1}\\d{2}', fd)):\n",
    "        return []\n",
    "    days = [31, 28, 31, 30, 31, 30, 31, 31, 30, 31, 30, 31]\n",
    "    ss = sd.split('-')\n",
    "    fs = fd.split('-')\n",
    "    dates_list = []\n",
    "    for i in range(int(ss[0]), int(fs[0]) + 1):\n",
    "        if i == int(ss[0]):\n",
    "            start_month = int(ss[1])\n",
    "        else:\n",
    "            start_month = 1\n",
    "        if i == int(fs[0]):\n",
    "            end_month = int(fs[1])\n",
    "        else:\n",
    "            end_month = 12\n",
    "        for j in range(start_month, end_month + 1):\n",
    "            if i == int(ss[0]) and j == start_month:\n",
    "                start_day = int(ss[2])\n",
    "            else:\n",
    "                start_day = 1\n",
    "            if i == int(fs[0]) and j == end_month:\n",
    "                end_day = int(fs[2])\n",
    "            else:\n",
    "                end_day = days[j - 1]\n",
    "                if end_day == 28 and i % 4 == 0 and (i % 100 != 0 or i % 400 == 0):\n",
    "                    end_day += 1\n",
    "            for k in range(start_day, end_day + 1):\n",
    "                dates_list.append('0' * (4 - len(str(i))) + str(i) + '-' +\n",
    "                                  '0' * (2 - len(str(j))) + str(j) + '-' +\n",
    "                                  '0' * (2 - len(str(k))) + str(k))\n",
    "    return dates_list\n",
    "\n",
    "            \n",
    "sd = input('Введите начальную дату')\n",
    "fd = input('Введите конечную дату')\n",
    "print(dates(sd, fd))"
   ]
  },
  {
   "cell_type": "code",
   "execution_count": 20,
   "metadata": {},
   "outputs": [
    {
     "name": "stdout",
     "output_type": "stream",
     "text": [
      "[True, True, True, False, False, False]\n"
     ]
    }
   ],
   "source": [
    "# задание 3\n",
    "\n",
    "import re\n",
    "\n",
    "def check_dates(ld):\n",
    "    tfd = []\n",
    "    for i in ld:\n",
    "        if (re.fullmatch('\\d{4}[-]{1}\\d{2}[-]{1}\\d{2}', i)):\n",
    "            tfd.append(True)\n",
    "        else:\n",
    "            tfd.append(False)\n",
    "    return tfd\n",
    "\n",
    "\n",
    "stream = ['2018-04-02', '2018-02-29', '2018-19-02', '18-19-02', '2018-7-02', '2018-19-5']\n",
    "print(check_dates(stream))\n"
   ]
  },
  {
   "cell_type": "code",
   "execution_count": null,
   "metadata": {},
   "outputs": [],
   "source": [
    "# задание 4\n",
    "# list index out of range означает выход индекса за пределы нашего списка\n",
    "# при 1м вызове функция вернет элемент с индексом 1, при 2м удалит А101, останется только элемент с индексом 0. Поэтому \n",
    "# происходит попытка обращения к несуществующему элементу"
   ]
  }
 ],
 "metadata": {
  "kernelspec": {
   "display_name": "Python 3",
   "language": "python",
   "name": "python3"
  },
  "language_info": {
   "codemirror_mode": {
    "name": "ipython",
    "version": 3
   },
   "file_extension": ".py",
   "mimetype": "text/x-python",
   "name": "python",
   "nbconvert_exporter": "python",
   "pygments_lexer": "ipython3",
   "version": "3.7.4"
  }
 },
 "nbformat": 4,
 "nbformat_minor": 2
}
