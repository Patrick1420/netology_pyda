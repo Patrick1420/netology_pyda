{
 "cells": [
  {
   "cell_type": "markdown",
   "metadata": {},
   "source": [
    "# Основы pandas"
   ]
  },
  {
   "cell_type": "code",
   "execution_count": null,
   "metadata": {},
   "outputs": [],
   "source": [
    "import pandas as pd"
   ]
  },
  {
   "cell_type": "markdown",
   "metadata": {},
   "source": [
    "Пример забора данных с сайтов"
   ]
  },
  {
   "cell_type": "code",
   "execution_count": null,
   "metadata": {
    "scrolled": true
   },
   "outputs": [],
   "source": [
    "pd.read_html('http://www.cbr.ru')[2]"
   ]
  },
  {
   "cell_type": "code",
   "execution_count": 44,
   "metadata": {},
   "outputs": [],
   "source": [
    "page_url = 'https://www.finanz.ru/valyuty/usd-rub'\n",
    "\n",
    "# Импортируем нужную нам страницу в df\n",
    "# attrs = {'class': 'news_table'} ---> указываем какой именно блок нам нужен\n",
    "# encoding='utf-8' ---> указываем кодировку страниц для корректного отображения кириллицы\n",
    "df = pd.read_html(page_url, attrs = {'class': 'news_table'}, encoding='utf-8')"
   ]
  },
  {
   "cell_type": "code",
   "execution_count": null,
   "metadata": {},
   "outputs": [],
   "source": [
    "df[:5]"
   ]
  },
  {
   "cell_type": "markdown",
   "metadata": {},
   "source": [
    "Импорт данных из файла"
   ]
  },
  {
   "cell_type": "code",
   "execution_count": null,
   "metadata": {
    "scrolled": false
   },
   "outputs": [],
   "source": [
    "data = pd.read_csv('power.csv')\n",
    "data.head()"
   ]
  },
  {
   "cell_type": "code",
   "execution_count": null,
   "metadata": {},
   "outputs": [],
   "source": [
    "data.tail()"
   ]
  },
  {
   "cell_type": "code",
   "execution_count": null,
   "metadata": {
    "scrolled": true
   },
   "outputs": [],
   "source": [
    "type(data)"
   ]
  },
  {
   "cell_type": "code",
   "execution_count": null,
   "metadata": {},
   "outputs": [],
   "source": [
    "# если надо указать свои заголовки и разделитель\n",
    "# data = pd.read_csv('power.csv', names = ['страна', 'год', 'количество', 'категория'], sep = '\\t', header=0)\n",
    "# data.head()"
   ]
  },
  {
   "cell_type": "code",
   "execution_count": null,
   "metadata": {},
   "outputs": [],
   "source": [
    "# количество строк в датафрейме\n",
    "\n",
    "len(data)"
   ]
  },
  {
   "cell_type": "code",
   "execution_count": null,
   "metadata": {},
   "outputs": [],
   "source": [
    "# или так\n",
    "\n",
    "data.shape"
   ]
  },
  {
   "cell_type": "markdown",
   "metadata": {},
   "source": [
    "Простые вычисления для нового столбца"
   ]
  },
  {
   "cell_type": "code",
   "execution_count": null,
   "metadata": {
    "scrolled": true
   },
   "outputs": [],
   "source": [
    "data['year_plus_one'] = data['year'] + 1\n",
    "data.head()"
   ]
  },
  {
   "cell_type": "markdown",
   "metadata": {},
   "source": [
    "### Упражнение\n",
    "Вам дана статистика продаж в файле transactions.csv. Вам необходимо загрузить этот файл в датафрейм и посчитать его размеры."
   ]
  },
  {
   "cell_type": "code",
   "execution_count": null,
   "metadata": {},
   "outputs": [],
   "source": []
  },
  {
   "cell_type": "code",
   "execution_count": null,
   "metadata": {},
   "outputs": [],
   "source": []
  },
  {
   "cell_type": "code",
   "execution_count": null,
   "metadata": {},
   "outputs": [],
   "source": []
  },
  {
   "cell_type": "markdown",
   "metadata": {},
   "source": [
    "### Основные сведения о датафрейме"
   ]
  },
  {
   "cell_type": "code",
   "execution_count": null,
   "metadata": {},
   "outputs": [],
   "source": [
    "data.info()"
   ]
  },
  {
   "cell_type": "code",
   "execution_count": null,
   "metadata": {
    "scrolled": false
   },
   "outputs": [],
   "source": [
    "# немного статистики\n",
    "\n",
    "data.describe()"
   ]
  },
  {
   "cell_type": "markdown",
   "metadata": {},
   "source": [
    "### Отдельный столбец (тип Series)"
   ]
  },
  {
   "cell_type": "code",
   "execution_count": null,
   "metadata": {},
   "outputs": [],
   "source": [
    "data['year'].head()"
   ]
  },
  {
   "cell_type": "code",
   "execution_count": null,
   "metadata": {},
   "outputs": [],
   "source": [
    "# или так\n",
    "\n",
    "data.year.head()"
   ]
  },
  {
   "cell_type": "code",
   "execution_count": null,
   "metadata": {
    "scrolled": true
   },
   "outputs": [],
   "source": [
    "type(data['year'])"
   ]
  },
  {
   "cell_type": "code",
   "execution_count": null,
   "metadata": {},
   "outputs": [],
   "source": [
    "data.head()"
   ]
  },
  {
   "cell_type": "code",
   "execution_count": null,
   "metadata": {},
   "outputs": [],
   "source": [
    "# уникальные значения в столбце\n",
    "\n",
    "data['category'].unique()"
   ]
  },
  {
   "cell_type": "code",
   "execution_count": null,
   "metadata": {},
   "outputs": [],
   "source": [
    "len(data['category'].unique())"
   ]
  },
  {
   "cell_type": "code",
   "execution_count": null,
   "metadata": {},
   "outputs": [],
   "source": [
    "data['category'].head()"
   ]
  },
  {
   "cell_type": "code",
   "execution_count": null,
   "metadata": {},
   "outputs": [],
   "source": [
    "# распределение количества строк по значениям столбца\n",
    "\n",
    "data['category'].value_counts().head(10)"
   ]
  },
  {
   "cell_type": "code",
   "execution_count": null,
   "metadata": {},
   "outputs": [],
   "source": [
    "data['category'].value_counts(normalize=True).head()"
   ]
  },
  {
   "cell_type": "markdown",
   "metadata": {},
   "source": [
    "### Упражнение\n",
    "Используем файл transactions.csv. Определите какой товар (столбец Product) упоминается в файле чаще всего?"
   ]
  },
  {
   "cell_type": "code",
   "execution_count": null,
   "metadata": {},
   "outputs": [],
   "source": []
  },
  {
   "cell_type": "code",
   "execution_count": null,
   "metadata": {},
   "outputs": [],
   "source": []
  },
  {
   "cell_type": "code",
   "execution_count": null,
   "metadata": {},
   "outputs": [],
   "source": []
  },
  {
   "cell_type": "markdown",
   "metadata": {},
   "source": [
    "# Фильтры"
   ]
  },
  {
   "cell_type": "code",
   "execution_count": null,
   "metadata": {},
   "outputs": [],
   "source": [
    "data = pd.read_csv('power.csv')\n",
    "data.head()"
   ]
  },
  {
   "cell_type": "code",
   "execution_count": null,
   "metadata": {},
   "outputs": [],
   "source": [
    "# выбрать несколько столбцов\n",
    "\n",
    "country_stats = data.filter(items = ['country', 'quantity'])\n",
    "country_stats.head()"
   ]
  },
  {
   "cell_type": "code",
   "execution_count": null,
   "metadata": {},
   "outputs": [],
   "source": [
    "# или так\n",
    "\n",
    "data[['country', 'quantity']].head()"
   ]
  },
  {
   "cell_type": "markdown",
   "metadata": {},
   "source": [
    "### Отфильтруем строки с потреблением выше среднего"
   ]
  },
  {
   "cell_type": "code",
   "execution_count": null,
   "metadata": {},
   "outputs": [],
   "source": [
    "average_level = data['quantity'].mean()\n",
    "average_level"
   ]
  },
  {
   "cell_type": "code",
   "execution_count": null,
   "metadata": {},
   "outputs": [],
   "source": [
    "'quantity > {}'.format(average_level)"
   ]
  },
  {
   "cell_type": "code",
   "execution_count": null,
   "metadata": {},
   "outputs": [],
   "source": [
    "# строки с потреблением больше среднего\n",
    "\n",
    "average_level = data['quantity'].mean()\n",
    "country_stats.query('quantity > {}'.format(average_level)).head()"
   ]
  },
  {
   "cell_type": "code",
   "execution_count": null,
   "metadata": {
    "scrolled": true
   },
   "outputs": [],
   "source": [
    "# самый популярный способ\n",
    "\n",
    "data[ data.quantity > average_level ].head()"
   ]
  },
  {
   "cell_type": "markdown",
   "metadata": {},
   "source": [
    "### Как определить используемый вариант названия страны?"
   ]
  },
  {
   "cell_type": "code",
   "execution_count": null,
   "metadata": {},
   "outputs": [],
   "source": [
    "data['country'].unique()"
   ]
  },
  {
   "cell_type": "code",
   "execution_count": null,
   "metadata": {},
   "outputs": [],
   "source": [
    "# найдем как называется Россия и Беларусь в этом датафрейме\n",
    "# фильтр на подстроку - смотрим все страны, содержащие в названии 'us'\n",
    "\n",
    "data[ data['country'].str.contains('us', case=False) ]['country'].unique()"
   ]
  },
  {
   "cell_type": "code",
   "execution_count": null,
   "metadata": {},
   "outputs": [],
   "source": [
    "# фильтр на несколько условий сразу\n",
    "# | - условие ИЛИ\n",
    "# & AND\n",
    "# () | (() | () & ())\n",
    "filtered_countries = data[ (data['country']=='Russian Federation') | (data['country']=='Belarus') ]\n",
    "\n",
    "filtered_countries.head()"
   ]
  },
  {
   "cell_type": "code",
   "execution_count": null,
   "metadata": {},
   "outputs": [],
   "source": [
    "filtered_countries['country'].unique()"
   ]
  },
  {
   "cell_type": "code",
   "execution_count": null,
   "metadata": {},
   "outputs": [],
   "source": [
    "# фильтры на номер строки\n",
    "\n",
    "data.loc[1000:1005]"
   ]
  },
  {
   "cell_type": "markdown",
   "metadata": {},
   "source": [
    "# Сортировка"
   ]
  },
  {
   "cell_type": "code",
   "execution_count": null,
   "metadata": {},
   "outputs": [],
   "source": [
    "# Сортировка по столбцу\n",
    "\n",
    "data.sort_values(by='quantity').head()"
   ]
  },
  {
   "cell_type": "code",
   "execution_count": null,
   "metadata": {},
   "outputs": [],
   "source": [
    "# сортировка по убыванию\n",
    "\n",
    "data.sort_values('quantity', ascending=False).head()"
   ]
  },
  {
   "cell_type": "code",
   "execution_count": null,
   "metadata": {},
   "outputs": [],
   "source": [
    "# сортировка по нескольким столбцам\n",
    "\n",
    "data.sort_values(by=['year', 'country', 'quantity'], ascending=[False, True, False]).head(50)"
   ]
  },
  {
   "cell_type": "markdown",
   "metadata": {},
   "source": [
    "### Параметр inplace"
   ]
  },
  {
   "cell_type": "code",
   "execution_count": null,
   "metadata": {},
   "outputs": [],
   "source": [
    "data.head()"
   ]
  },
  {
   "cell_type": "code",
   "execution_count": null,
   "metadata": {},
   "outputs": [],
   "source": [
    "data.sort_values('country', ascending=True, inplace=rewrite)"
   ]
  },
  {
   "cell_type": "code",
   "execution_count": null,
   "metadata": {},
   "outputs": [],
   "source": [
    "data = data.sort_values(by=['country', 'year', 'quantity'], ascending=[True, True, False])\n",
    "\n",
    "# чтобы сократить это выражение используем inplace:\n",
    "data.sort_values(by=['country', 'year', 'quantity'], ascending=[True, True, False], inplace=True)"
   ]
  },
  {
   "cell_type": "markdown",
   "metadata": {},
   "source": [
    "### Упражнение\n",
    "Используем transactions.csv.\n",
    "\n",
    "Для какой транзакции (столбец ID) были наибольшие расходы (столбец Cost) в категории \"_8\" (столбец Product)? "
   ]
  },
  {
   "cell_type": "code",
   "execution_count": null,
   "metadata": {},
   "outputs": [],
   "source": []
  },
  {
   "cell_type": "code",
   "execution_count": null,
   "metadata": {},
   "outputs": [],
   "source": []
  },
  {
   "cell_type": "code",
   "execution_count": null,
   "metadata": {},
   "outputs": [],
   "source": []
  },
  {
   "cell_type": "code",
   "execution_count": 56,
   "metadata": {},
   "outputs": [
    {
     "name": "stdout",
     "output_type": "stream",
     "text": [
      "Shawshank Redemption, The (1994)\n"
     ]
    }
   ],
   "source": [
    "#Домашнее задание\n",
    "import pandas as pd\n",
    "\n",
    "data = pd.read_csv('ml-latest-small/ratings.csv')\n",
    "films = pd.read_csv('ml-latest-small/movies.csv')\n",
    "data1 = data[['movieId', 'rating']].query('rating == 5.0').groupby(['movieId', 'rating']).size().reset_index(name='counts')\n",
    "id_max = data1.idxmax()\n",
    "film_id = data1['movieId'][id_max['counts']]\n",
    "print(films.loc[films['movieId'] == film_id].iloc[0]['title'])"
   ]
  },
  {
   "cell_type": "code",
   "execution_count": 41,
   "metadata": {},
   "outputs": [
    {
     "name": "stdout",
     "output_type": "stream",
     "text": [
      "240580.0\n"
     ]
    }
   ],
   "source": [
    "data = pd.read_csv('power.csv')\n",
    "data1 = data.query('(country == \"Lithuania\" | country == \"Estonia\" | country == \"Latvia\") &' +\n",
    "                  '(category == 4 | category == 12 | category == 21) &' +\n",
    "                  'year >= 2005 & year <=2010 & quantity > 0')\n",
    "s = data1['quantity'].sum()\n",
    "print(s)"
   ]
  },
  {
   "cell_type": "code",
   "execution_count": 49,
   "metadata": {},
   "outputs": [
    {
     "name": "stdout",
     "output_type": "stream",
     "text": [
      "[       Дата  Закрытие  Открытие  Максимум  Минимум\n",
      "0  29.02.20      6189      6184      6189     6184\n",
      "1  28.02.20      6190      6052      6252     6045\n",
      "2  27.02.20      6053      5932      6065     5928\n",
      "3  26.02.20      5930      5928      5963     5876\n",
      "4  25.02.20      5926      5906      5959     5837\n",
      "5  24.02.20      5905      5744      5936     5738\n",
      "6  23.02.20      5768      5755      5792     5752\n",
      "7  22.02.20      5743      5732      5743     5732\n",
      "8  21.02.20      5744      5728      5784     5719\n",
      "9  20.02.20      5726      5711      5754     5684,        Имя  Unnamed: 1     %    курс                 Дата\n",
      "0  EUR/RUB         NaN     0  735895  29.02.2020 14:18:00\n",
      "1  USD/RUB         NaN   845  669105  29.02.2020 14:18:00\n",
      "2  CHF/RUB         NaN   219  693603  29.02.2020 15:29:00\n",
      "3  JPY/RUB         NaN  -157    6189  29.02.2020 15:29:00\n",
      "4  GBP/RUB         NaN   342  857826  29.02.2020 15:29:00\n",
      "5  NOK/RUB         NaN    98   71218  29.02.2020 15:29:00\n",
      "6  AUD/RUB         NaN   222   43542  29.02.2020 15:29:00\n",
      "7  NZD/RUB         NaN  1016  418084  29.02.2020 15:29:00\n",
      "8  TRY/RUB         NaN   889  107216  29.02.2020 15:29:00]\n"
     ]
    }
   ],
   "source": [
    "page_url = 'https://www.finanz.ru/valyuty/jpy-rub'\n",
    "df = pd.read_html(page_url, attrs = {'class': 'news_table'}, encoding='utf-8')\n",
    "print(df)"
   ]
  },
  {
   "cell_type": "code",
   "execution_count": null,
   "metadata": {},
   "outputs": [],
   "source": []
  }
 ],
 "metadata": {
  "kernelspec": {
   "display_name": "Python 3",
   "language": "python",
   "name": "python3"
  },
  "language_info": {
   "codemirror_mode": {
    "name": "ipython",
    "version": 3
   },
   "file_extension": ".py",
   "mimetype": "text/x-python",
   "name": "python",
   "nbconvert_exporter": "python",
   "pygments_lexer": "ipython3",
   "version": "3.7.4"
  }
 },
 "nbformat": 4,
 "nbformat_minor": 2
}
