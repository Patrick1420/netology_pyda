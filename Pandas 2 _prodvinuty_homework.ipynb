{
 "cells": [
  {
   "cell_type": "code",
   "execution_count": 23,
   "metadata": {},
   "outputs": [
    {
     "name": "stdout",
     "output_type": "stream",
     "text": [
      "     userId  count  mintimestamp  maxtimestamp   lifetime\n",
      "3         4    204     949778714     949982274     203560\n",
      "7         8    116    1154389340    1154474527      85187\n",
      "14       15   1700     997937239    1469330735  471393496\n",
      "16       17    363    1127468587    1127476640       8053\n",
      "18       19    423     855190091     855195373       5282\n",
      "..      ...    ...           ...           ...        ...\n",
      "655     656    128     986240991     986244044       3053\n",
      "658     659    142     834598040     866207451   31609411\n",
      "663     664    519    1343731283    1441911722   98180439\n",
      "664     665    434     992836298    1046967769   54131471\n",
      "670     671    115    1063500751    1074784735   11283984\n",
      "\n",
      "[258 rows x 5 columns]\n",
      "40080507.4496124\n"
     ]
    }
   ],
   "source": [
    "# Домашнее задание 1\n",
    "import pandas as pd\n",
    "\n",
    "data = pd.read_csv('ml-latest-small/ratings.csv')\n",
    "data1 = data[['userId', 'timestamp']].groupby(['userId']).size().reset_index(name='count')\n",
    "data2 = data1.loc[data1['count'] > 100]\n",
    "data3 = data[['userId', 'timestamp']].groupby(['userId'])['timestamp'].min().reset_index(name='mintimestamp')\n",
    "data4 = data[['userId', 'timestamp']].groupby(['userId'])['timestamp'].max().reset_index(name='maxtimestamp')\n",
    "data5 = data2.join(data3['mintimestamp'], how='left', lsuffix='userId').join(data4['maxtimestamp'], how='left', lsuffix='userId')\n",
    "data5['lifetime'] = data5.apply(lambda x: x['maxtimestamp'] - x['mintimestamp'], axis =  1)\n",
    "print(data5)\n",
    "print(data5['lifetime'].mean())"
   ]
  },
  {
   "cell_type": "code",
   "execution_count": null,
   "metadata": {},
   "outputs": [],
   "source": [
    "# Домашнее задание 2\n",
    "#Дана статистика услуг перевозок клиентов компании по типам:\n",
    "#- rzd - железнодорожные перевозки\n",
    "#- auto - автомобильные перевозки\n",
    "#- air - воздушные перевозки\n",
    "#- client_base - адреса клиентов"
   ]
  },
  {
   "cell_type": "code",
   "execution_count": null,
   "metadata": {},
   "outputs": [],
   "source": [
    "rzd = pd.DataFrame(\n",
    "    {\n",
    "        'client_id': [111, 112, 113, 114, 115],\n",
    "        'rzd_revenue': [1093, 2810, 10283, 5774, 981]\n",
    "    }\n",
    ")\n",
    "rzd"
   ]
  },
  {
   "cell_type": "code",
   "execution_count": null,
   "metadata": {},
   "outputs": [],
   "source": [
    "auto = pd.DataFrame(\n",
    "    {\n",
    "        'client_id': [113, 114, 115, 116, 117],\n",
    "        'auto_revenue': [57483, 83, 912, 4834, 98]\n",
    "    }\n",
    ")\n",
    "auto"
   ]
  },
  {
   "cell_type": "code",
   "execution_count": null,
   "metadata": {},
   "outputs": [],
   "source": [
    "air = pd.DataFrame(\n",
    "    {\n",
    "        'client_id': [115, 116, 117, 118],\n",
    "        'air_revenue': [81, 4, 13, 173]\n",
    "    }\n",
    ")\n",
    "air"
   ]
  },
  {
   "cell_type": "code",
   "execution_count": null,
   "metadata": {},
   "outputs": [],
   "source": [
    "client_base = pd.DataFrame(\n",
    "    {\n",
    "        'client_id': [111, 112, 113, 114, 115, 116, 117, 118],\n",
    "        'address': ['Комсомольская 4', 'Энтузиастов 8а', 'Левобережная 1а', 'Мира 14', 'ЗЖБИиДК 1', \n",
    "                    'Строителей 18', 'Панфиловская 33', 'Мастеркова 4']\n",
    "    }\n",
    ")\n",
    "client_base"
   ]
  },
  {
   "cell_type": "raw",
   "metadata": {},
   "source": [
    "rzd = pd.DataFrame(\n",
    "    {\n",
    "        'client_id': [111, 112, 113, 114, 115],\n",
    "        'rzd_revenue': [1093, 2810, 10283, 5774, 981]\n",
    "    }\n",
    ")\n",
    "auto = pd.DataFrame(\n",
    "    {\n",
    "        'client_id': [113, 114, 115, 116, 117],\n",
    "        'auto_revenue': [57483, 83, 912, 4834, 98]\n",
    "    }\n",
    ")\n",
    "air = pd.DataFrame(\n",
    "    {\n",
    "        'client_id': [115, 116, 117, 118],\n",
    "        'air_revenue': [81, 4, 13, 173]\n",
    "    }\n",
    ")\n",
    "client_base = pd.DataFrame(\n",
    "    {\n",
    "        'client_id': [111, 112, 113, 114, 115, 116, 117, 118],\n",
    "        'address': ['Комсомольская 4', 'Энтузиастов 8а', 'Левобережная 1а', 'Мира 14', 'ЗЖБИиДК 1', \n",
    "                    'Строителей 18', 'Панфиловская 33', 'Мастеркова 4']\n",
    "    }\n",
    ")\n",
    "data1 = client_base[['client_id']].merge(rzd, how='left', on='client_id')\n",
    "data1 = data1.merge(auto, how='left', on='client_id')\n",
    "data1 = data1.merge(air, how='left', on='client_id')\n",
    "print(data1)\n",
    "data2 = client_base.merge(rzd, how='left', on='client_id')\n",
    "data2 = data2.merge(auto, how='left', on='client_id')\n",
    "data2 = data2.merge(air, how='left', on='client_id')\n",
    "print(data2)"
   ]
  },
  {
   "cell_type": "code",
   "execution_count": null,
   "metadata": {},
   "outputs": [],
   "source": [
    "# Домашнее задание 3\n",
    "# вопрос 1. Надо как минимум иметь координаты магазина и координаты нахождения юзера. Они должны совпадать. Как и время \n",
    "# тоже. Он должен побыть в точке координаты магазина какое-то время. Тогда можно предположить, что юзер именно посетил \n",
    "# магазин, а не просто проходил мимо. Насчет совершения покупки - должны совпасть время совершения покупки и время \n",
    "# нахождения юзера в магазине, и то не факт, что эту покупку совершил именно наш юзер.\n",
    "## вопрос 2. никак. \n",
    "### вопрос 3. скорее всего можно определить рабочий график юзера по треку. т.е где работает, начало, продолжительность и \n",
    "# конец рабочего дня. место проживания. сколько времени тратит на дорогу (от этого можно предположить на каком транспорте)."
   ]
  }
 ],
 "metadata": {
  "kernelspec": {
   "display_name": "Python 3",
   "language": "python",
   "name": "python3"
  },
  "language_info": {
   "codemirror_mode": {
    "name": "ipython",
    "version": 3
   },
   "file_extension": ".py",
   "mimetype": "text/x-python",
   "name": "python",
   "nbconvert_exporter": "python",
   "pygments_lexer": "ipython3",
   "version": "3.7.4"
  }
 },
 "nbformat": 4,
 "nbformat_minor": 2
}
