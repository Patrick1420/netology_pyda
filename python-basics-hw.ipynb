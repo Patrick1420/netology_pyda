{
 "cells": [
  {
   "cell_type": "markdown",
   "metadata": {},
   "source": [
    "**Задание 1**. Даны 2 строки: *long_phrase* и *short_phrase*. \n",
    "Напишите код, который проверяет действительно ли длинная фраза *long_phrase* длиннее короткой *short_phrase*. И выводит *True* или *False* в зависимости от результата сравнения."
   ]
  },
  {
   "cell_type": "code",
   "execution_count": 4,
   "metadata": {},
   "outputs": [],
   "source": [
    "long_phrase = 'Насколько проще было бы писать программы, если бы не заказчики'\n",
    "short_phrase = '640Кб должно хватить для любых задач. Билл Гейтс (по легенде)'"
   ]
  },
  {
   "cell_type": "code",
   "execution_count": 6,
   "metadata": {},
   "outputs": [
    {
     "name": "stdout",
     "output_type": "stream",
     "text": [
      "True\n"
     ]
    }
   ],
   "source": [
    "long_phrase = 'Насколько проще было бы писать программы, если бы не заказчики'\n",
    "short_phrase = '640Кб должно хватить для любых задач. Билл Гейтс (по легенде)'\n",
    "len(long_phrase) > len(short_phrase)\n",
    "# с командой принт\n",
    "print(len(long_phrase) > len(short_phrase))"
   ]
  },
  {
   "cell_type": "markdown",
   "metadata": {},
   "source": [
    "**Задание 2**. Дано значение объема файла в байтах. Напишите перевод этого значения в мегабайты в формате: \"*Объем файла равен 213.68Mb*\""
   ]
  },
  {
   "cell_type": "code",
   "execution_count": 7,
   "metadata": {},
   "outputs": [
    {
     "name": "stdout",
     "output_type": "stream",
     "text": [
      "Объем файла равен  0.208671875 Mb\n"
     ]
    }
   ],
   "source": [
    "x = 213.68 \n",
    "print('Объем файла равен ', x/1024 ,'Mb' )"
   ]
  },
  {
   "cell_type": "markdown",
   "metadata": {},
   "source": [
    "**Задание 3**. Разработать приложение для определения знака зодиака по дате рождения. Пример:\n",
    "\n",
    "Введите месяц: март\n",
    "\n",
    "Введите число: 6\n",
    "\n",
    "Вывод:\n",
    "Рыбы"
   ]
  },
  {
   "cell_type": "code",
   "execution_count": 12,
   "metadata": {},
   "outputs": [
    {
     "name": "stdout",
     "output_type": "stream",
     "text": [
      "Введите месяц March\n",
      "Введите дату рождения 6\n",
      "Рыбы\n"
     ]
    }
   ],
   "source": [
    "month = input('Введите месяц ')\n",
    "date = input('Введите дату рождения ')\n",
    "if month == 'March' and date == '6':\n",
    "    print('Рыбы')"
   ]
  },
  {
   "cell_type": "code",
   "execution_count": 35,
   "metadata": {},
   "outputs": [
    {
     "name": "stdout",
     "output_type": "stream",
     "text": [
      "Введите месяц August\n",
      "Введите дату рождения 17\n",
      "Лев\n"
     ]
    }
   ],
   "source": [
    "month = input('Введите месяц ')\n",
    "date = input('Введите дату рождения ')\n",
    "if month == 'March' and date <='20' or month == 'February' and date >='19':\n",
    "    print('Рыбы')\n",
    "if month == 'April' and date <='20' or month == 'March' and date >='21':\n",
    "    print('Овен')\n",
    "if month == 'May' and date <='20' or month == 'April' and date >='21':\n",
    "    print('Телец')\n",
    "if month == 'June' and date <='21' or month == 'May' and date >='21':\n",
    "    print('Близнецы')  \n",
    "if month == 'July' and date <='22' or month == 'June' and date >='22':\n",
    "    print('Рак') \n",
    "if month == 'August' and date <='23' or month == 'July' and date >='23':\n",
    "    print('Лев')\n",
    "if month == 'September' and date <='23' or month == 'August' and date >='24':\n",
    "    print('Дева') \n",
    "if month == 'October' and date <='23' or month == 'September' and date >='24':\n",
    "    print('Весы') \n",
    "if month == 'November' and date <='22' or month == 'October' and date >='24':\n",
    "    print('Скорпион')\n",
    "if month == 'December' and date <='21' or month == 'November' and date >='23':\n",
    "    print('Стрелец')  \n",
    "if month == 'January' and date <='20' or month == 'December' and date >='22':\n",
    "    print('Козерог') \n",
    "if month == 'February' and date <='18' or month == 'January' and date >='21':\n",
    "    print('Водолей')    "
   ]
  },
  {
   "cell_type": "markdown",
   "metadata": {},
   "source": [
    "**Задание 4**. Нужно разработать приложение для финансового планирования.\n",
    "Приложение учитывает сколько уходит на ипотеку, \"на жизнь\" и сколько нужно отложить на пенсию.\n",
    "Пользователь вводит:\n",
    "- заработанную плату в месяц.\n",
    "- сколько процентов от ЗП уходит на ипотеку.\n",
    "- сколько процентов от ЗП уходит \"на жизнь\".\n",
    "- сколько раз приходит премия в год.\n",
    "\n",
    "Остальная часть заработанной платы откладывается на пенсию.\n",
    "\n",
    "Также пользователю приходит премия в размере зарплаты, от которой половина уходит на отпуск, а вторая половина откладывается.\n",
    "\n",
    "Программа должна учитывать сколько премий было в год.\n",
    "\n",
    "Нужно вывести сколько денег тратит пользователь на ипотеку и сколько он накопит за год.\n",
    "\n",
    "Пример:\n",
    "\n",
    "Введите заработанную плату в месяц: 100000\n",
    "\n",
    "Введите сколько процентов уходит на ипотеку: 30\n",
    "\n",
    "Введите сколько процентов уходит на жизнь: 50\n",
    "\n",
    "Введите количество премий за год: 2\n",
    "\n",
    "Вывод:\n",
    "На ипотеку было потрачено: 360000 рублей\n",
    "Было накоплено: 340000 рублей"
   ]
  },
  {
   "cell_type": "code",
   "execution_count": 15,
   "metadata": {},
   "outputs": [
    {
     "name": "stdout",
     "output_type": "stream",
     "text": [
      "Введите заработную плату в месяц: 100000\n",
      "Введите сколько % от ЗП уходит на ипотеку: 30\n",
      "Введите сколько % от ЗП уходит на жизнь: 50\n",
      "Введите количество премий за год: 2\n",
      "На ипотеку было потрачено:  360000.0 рублей Было накоплено:  340000.0 рублей\n"
     ]
    }
   ],
   "source": [
    "salary = int(input('Введите заработную плату в месяц: '))\n",
    "mortgage = int(input('Введите сколько % от ЗП уходит на ипотеку: '))\n",
    "living = int(input('Введите сколько % от ЗП уходит на жизнь: '))\n",
    "bonus = int(input('Введите количество премий за год: '))\n",
    "x = (mortgage*(12*salary))/100 # % ipoteka\n",
    "y = (living*(12*salary))/100 # % zhizn\n",
    "z = ((12*salary)+((salary*bonus)/2))-x-y # ostatok\n",
    "print('На ипотеку было потрачено: ',x, 'рублей Было накоплено: ',z, 'рублей')"
   ]
  }
 ],
 "metadata": {
  "kernelspec": {
   "display_name": "Python 3",
   "language": "python",
   "name": "python3"
  },
  "language_info": {
   "codemirror_mode": {
    "name": "ipython",
    "version": 3
   },
   "file_extension": ".py",
   "mimetype": "text/x-python",
   "name": "python",
   "nbconvert_exporter": "python",
   "pygments_lexer": "ipython3",
   "version": "3.7.4"
  }
 },
 "nbformat": 4,
 "nbformat_minor": 2
}
